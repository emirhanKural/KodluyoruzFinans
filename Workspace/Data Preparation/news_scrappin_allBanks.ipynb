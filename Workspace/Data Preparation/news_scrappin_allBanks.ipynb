{
 "cells": [
  {
   "cell_type": "code",
   "execution_count": null,
   "metadata": {
    "id": "NHi-saK3u9Cw"
   },
   "outputs": [],
   "source": [
    "import requests\n",
    "from bs4 import BeautifulSoup \n",
    "from tqdm import tqdm\n",
    "import pandas as pd"
   ]
  },
  {
   "cell_type": "code",
   "execution_count": null,
   "metadata": {
    "id": "PMAsaAAdu9C3"
   },
   "outputs": [],
   "source": [
    "#BORSAGÜNDEM\n",
    "arra_borsa=[]\n",
    "for i in tqdm(range(1,64)):\n",
    "    page = requests.get(f\"https://www.borsagundem.com/ara/akbank/{i}\")\n",
    "    sp = BeautifulSoup(page.content,\"html.parser\")\n",
    "    liste = sp.find(\"div\",{\"class\":\"srch\"}).find_all(\"li\")\n",
    "    \n",
    "    for l in liste:      \n",
    "        title = l.strong.text\n",
    "        tarih = l.small.text\n",
    "        saat = tarih[tarih.find(\",\")+2:]\n",
    "        tarih = tarih[:tarih.find(\",\")]\n",
    "        icerik = l.span.text\n",
    "        \n",
    "        arra_borsa.append([title,icerik,tarih,saat])"
   ]
  },
  {
   "cell_type": "code",
   "execution_count": null,
   "metadata": {
    "id": "FJQL17qou9C7"
   },
   "outputs": [],
   "source": [
    "#HURRİYET\n",
    "array_hur = []\n",
    "adres = \"http://bigpara.hurriyet.com.tr\"\n",
    "for i in tqdm(range(1,12)):   \n",
    "    page = requests.get(f\"http://bigpara.hurriyet.com.tr/arama/?firstDate=2015-06-01&secondDate=2020-09-28&includeKap=False&page={i}&s=akbank\")\n",
    "    sp = BeautifulSoup(page.content, \"html.parser\")\n",
    "    liste = sp.find(\"div\",{\"class\":\"aramasonuc\"}).find_all(\"li\")\n",
    "    \n",
    "    \n",
    "    for l in liste:\n",
    "        try:\n",
    "            title = l.a.text\n",
    "            icerik = l.find_all(\"a\")[1].text\n",
    "            tarih = l.span.text[1:-1]\n",
    "\n",
    "            link = adres + l.a.get(\"href\")\n",
    "            page_content = requests.get(link)\n",
    "            sp_content = BeautifulSoup(page_content.content, \"html.parser\")\n",
    "            st = sp_content.find(\"div\",{\"class\":\"dtSizeLine\"}).span.text\n",
    "            saat = st[st.find(\"-\")+2:st.find(\"-\")+7]\n",
    "\n",
    "            array_hur.append([title,icerik,tarih,saat])\n",
    "        except:\n",
    "            print(link)\n",
    "            continue\n",
    "len(array_hur)"
   ]
  },
  {
   "cell_type": "code",
   "execution_count": null,
   "metadata": {
    "id": "CB8NXkQSu9DA"
   },
   "outputs": [],
   "source": [
    "#FİNANS GÜNDEM\n",
    "array_finans = []\n",
    "for i in tqdm(range(1,52)):\n",
    "    page = requests.get(f\"https://www.finansgundem.com/ara/akbank/{i}\")\n",
    "    sp = BeautifulSoup(page.content,\"html.parser\")\n",
    "    liste = sp.find(\"div\",{\"class\":\"srch\"}).find_all(\"li\")\n",
    "    \n",
    "    for l in liste:      \n",
    "        title = l.strong.text\n",
    "        tarih = l.small.text\n",
    "        saat = tarih[tarih.find(\",\")+2:]\n",
    "        tarih = tarih[:tarih.find(\",\")]\n",
    "        icerik = l.span.text\n",
    "        \n",
    "        array_finans.append([title,icerik,tarih,saat])"
   ]
  },
  {
   "cell_type": "code",
   "execution_count": null,
   "metadata": {
    "id": "y6wlvYTEu9DE"
   },
   "outputs": [],
   "source": [
    "column_names = [\"title\",\"content\",\"date\",\"time\"]\n",
    "data = pd.DataFrame(data=array+array_hur+array_finans,columns=column_names)"
   ]
  },
  {
   "cell_type": "code",
   "execution_count": null,
   "metadata": {
    "id": "8CRcw-SAu9DH"
   },
   "outputs": [],
   "source": []
  }
 ],
 "metadata": {
  "colab": {
   "name": "news_scraping.ipynb",
   "provenance": []
  },
  "kernelspec": {
   "display_name": "Python 3",
   "language": "python",
   "name": "python3"
  },
  "language_info": {
   "codemirror_mode": {
    "name": "ipython",
    "version": 3
   },
   "file_extension": ".py",
   "mimetype": "text/x-python",
   "name": "python",
   "nbconvert_exporter": "python",
   "pygments_lexer": "ipython3",
   "version": "3.7.6"
  }
 },
 "nbformat": 4,
 "nbformat_minor": 1
}
